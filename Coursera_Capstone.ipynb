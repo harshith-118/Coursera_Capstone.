{
  "nbformat": 4,
  "nbformat_minor": 0,
  "metadata": {
    "colab": {
      "name": "Coursera_Capstone.ipynb",
      "provenance": []
    },
    "kernelspec": {
      "name": "python3",
      "display_name": "Python 3"
    },
    "language_info": {
      "name": "python"
    }
  },
  "cells": [
    {
      "cell_type": "markdown",
      "metadata": {
        "id": "keuIpj8WHBeR"
      },
      "source": [
        "This notebook is especially created for the capstone project in Coursera for the course<br>\n",
        "IBM : DATA SCIENCE PROFESSIONAL \n",
        "<br>\n",
        "This notebook will be uploaded from GitHub"
      ]
    },
    {
      "cell_type": "code",
      "metadata": {
        "id": "Rgppc1VWGqNy"
      },
      "source": [
        "import numpy as np\n",
        "import pandas as pd"
      ],
      "execution_count": 1,
      "outputs": []
    },
    {
      "cell_type": "code",
      "metadata": {
        "colab": {
          "base_uri": "https://localhost:8080/"
        },
        "id": "W_UxDXnAG8Tu",
        "outputId": "8b3b4fc3-3b1e-4e81-c76f-482a678733fb"
      },
      "source": [
        "print(\"Hello Capstone Project Course!\")"
      ],
      "execution_count": 2,
      "outputs": [
        {
          "output_type": "stream",
          "text": [
            "Hello Capstone Project Course!\n"
          ],
          "name": "stdout"
        }
      ]
    },
    {
      "cell_type": "code",
      "metadata": {
        "id": "gqSqHAAdHAy0"
      },
      "source": [
        ""
      ],
      "execution_count": null,
      "outputs": []
    }
  ]
}